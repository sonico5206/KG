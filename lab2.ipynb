{
 "cells": [
  {
   "cell_type": "code",
   "execution_count": 1,
   "id": "d883514c-54e7-4c82-942b-0d337dd589bc",
   "metadata": {},
   "outputs": [
    {
     "name": "stdout",
     "output_type": "stream",
     "text": [
      "4.10.0\n"
     ]
    }
   ],
   "source": [
    "import cv2\n",
    "print(cv2.__version__)"
   ]
  },
  {
   "cell_type": "code",
   "execution_count": 7,
   "id": "702f573c-1f10-4834-ad62-fd67a33af31b",
   "metadata": {},
   "outputs": [],
   "source": [
    "import tkinter as tk\n",
    "from tkinter import filedialog, messagebox\n",
    "import cv2\n",
    "import numpy as np\n",
    "from PIL import Image, ImageTk\n",
    "\n",
    "class ImageProcessor(tk.Tk):\n",
    "    \n",
    "    def __init__(self):\n",
    "        super().__init__()\n",
    "        self.title(\"Обработка изображений\")\n",
    "        self.geometry(\"800x600\")\n",
    "        \n",
    "        self.image_panel = None\n",
    "        self.original_image = None\n",
    "        \n",
    "        self.create_widgets()\n",
    "    \n",
    "    def create_widgets(self):\n",
    "        self.upload_button = tk.Button(self, text=\"Загрузить изображение\", command=self.load_image)\n",
    "        self.upload_button.pack(pady=10)\n",
    "        \n",
    "        self.smooth_button = tk.Button(self, text=\"Применить сглаживающий фильтр\", command=self.apply_smoothing)\n",
    "        self.smooth_button.pack(pady=10)\n",
    "        \n",
    "        self.threshold_button = tk.Button(self, text=\"Применить локальную пороговую обработку Адаптивная\", command=self.local_thresholding)\n",
    "        self.threshold_button.pack(pady=10)\n",
    "\n",
    "        self.threshold_button1 = tk.Button(self, text=\"Применить локальную пороговую обработку Гаусса\", command=self.local_thresh)\n",
    "        self.threshold_button1.pack(pady=10)\n",
    "        \n",
    "        self.back_button = tk.Button(self, text=\"Исходное изображение\", command=self.back_image)\n",
    "        self.back_button.pack(pady=10)\n",
    "        \n",
    "        self.exit_button = tk.Button(self, text=\"Выход\", command=self.destroy)\n",
    "        self.exit_button.pack(pady=10)\n",
    "    \n",
    "    def load_image(self):\n",
    "        file_path = filedialog.askopenfilename()\n",
    "        if file_path:\n",
    "            self.original_image = cv2.imread(file_path, cv2.IMREAD_COLOR)\n",
    "            self.show_image(self.original_image)\n",
    "    \n",
    "    def show_image(self, image):\n",
    "        image = cv2.cvtColor(image, cv2.COLOR_BGR2RGB)  # Конвертируем BGR в RGB\n",
    "        image = Image.fromarray(image)\n",
    "        image = ImageTk.PhotoImage(image)\n",
    "        \n",
    "        if self.image_panel is None:\n",
    "            self.image_panel = tk.Label(self, image=image)\n",
    "            self.image_panel.image = image\n",
    "            self.image_panel.pack()\n",
    "        else:\n",
    "            self.image_panel.configure(image=image)\n",
    "            self.image_panel.image = image\n",
    "    \n",
    "    def apply_smoothing(self):\n",
    "        if self.original_image is not None:\n",
    "            smoothed_image = cv2.GaussianBlur(self.original_image, (5, 5), 0)\n",
    "            self.show_image(smoothed_image)\n",
    "        else:\n",
    "            messagebox.showwarning(\"Предупреждение\", \"Сначала загрузите изображение.\")\n",
    "    \n",
    "    def local_thresholding(self):\n",
    "        if self.original_image is not None:\n",
    "            gray_image = cv2.cvtColor(self.original_image, cv2.COLOR_BGR2GRAY)\n",
    "            adaptive_thresh = cv2.adaptiveThreshold(gray_image, 255, cv2.ADAPTIVE_THRESH_MEAN_C, cv2.THRESH_BINARY, 11, 2)\n",
    "            self.show_image(adaptive_thresh)\n",
    "        else:\n",
    "            messagebox.showwarning(\"Предупреждение\", \"Сначала загрузите изображение.\")\n",
    "            \n",
    "    def local_thresh(self):\n",
    "        if self.original_image is not None:\n",
    "            gray_image = cv2.cvtColor(self.original_image, cv2.COLOR_BGR2GRAY)\n",
    "            adaptive_thresh = cv2.adaptiveThreshold(gray_image,255,cv2.ADAPTIVE_THRESH_GAUSSIAN_C,cv2.THRESH_BINARY,11,2)\n",
    "            self.show_image(adaptive_thresh)\n",
    "        else:\n",
    "            messagebox.showwarning(\"Предупреждение\", \"Сначала загрузите изображение.\")\n",
    "        \n",
    "    def back_image(self):\n",
    "        if self.original_image is not None:\n",
    "            self.show_image(self.original_image)\n",
    "        else:\n",
    "            messagebox.showwarning(\"Предупреждение\", \"Сначала загрузите изображение.\")\n",
    "\n",
    "# Запуск приложения\n",
    "if __name__ == \"__main__\":\n",
    "    app = ImageProcessor()\n",
    "    app.mainloop()"
   ]
  },
  {
   "cell_type": "code",
   "execution_count": null,
   "id": "a91bdc22-9256-4fcd-8f70-55ff20ae9b6c",
   "metadata": {},
   "outputs": [],
   "source": []
  },
  {
   "cell_type": "code",
   "execution_count": null,
   "id": "e0fa49d0-79c9-47ae-8570-c0a5f1d2f086",
   "metadata": {},
   "outputs": [],
   "source": []
  },
  {
   "cell_type": "code",
   "execution_count": null,
   "id": "aea222df-517c-4128-a7ca-668ccf977215",
   "metadata": {},
   "outputs": [],
   "source": []
  },
  {
   "cell_type": "code",
   "execution_count": 22,
   "id": "488ff850-a3a8-4ea2-8e1d-ce78cecdc6c4",
   "metadata": {},
   "outputs": [],
   "source": [
    "import cv2\n",
    "import numpy as np\n",
    "from skimage import img_as_float\n",
    "\n",
    "# Функция добавления шума\n",
    "def add_gaussian_noise(image, mean=0, sigma=25):\n",
    "    gauss = np.random.normal(mean, sigma, image.shape).astype('uint8')\n",
    "    #gauss = np.random.normal(mean, sigma, image.shape).astype(np.uint8)\n",
    "    noisy_image = cv2.add(image, gauss)\n",
    "    cv2.imwrite('noisy.jpg', noisy_image)\n",
    "    return noisy_image\n",
    "\n",
    "# Функция размытия\n",
    "def apply_blur(image, ksize=5):\n",
    "    blurred_image = cv2.GaussianBlur(image, (ksize, ksize), 0)\n",
    "    cv2.imwrite('blurred.jpg', blurred_image)\n",
    "    return blurred_image\n",
    "\n",
    "# Функция уменьшения контрастности\n",
    "def reduce_contrast(image, factor=0.5):\n",
    "    image = img_as_float(image)\n",
    "    reduced_contrast_image = image * factor\n",
    "    cv2.imwrite('contrast.jpg', (reduced_contrast_image * 255).astype(np.uint8))\n",
    "    return (reduced_contrast_image * 255).astype(np.uint8)\n",
    "\n",
    "# Пример использования\n",
    "original_image = cv2.imread('5fd531dca6427c7_upscaled.jpg')\n",
    "\n",
    "noisy_image = add_gaussian_noise(original_image)\n",
    "#display(noisy_image)\n",
    "blurred_image = apply_blur(original_image)\n",
    "#display(blurred_image)\n",
    "low_contrast_image = reduce_contrast(original_image)\n",
    "#display(low_contrast_image)\n"
   ]
  },
  {
   "cell_type": "code",
   "execution_count": null,
   "id": "fc7e5839-90c3-4aaa-b1c5-c4f6dc3c93fa",
   "metadata": {},
   "outputs": [],
   "source": []
  },
  {
   "cell_type": "code",
   "execution_count": 1,
   "id": "b86a40a0-6160-4d25-80d0-578c31ba7a90",
   "metadata": {},
   "outputs": [
    {
     "data": {
      "text/plain": [
       "True"
      ]
     },
     "execution_count": 1,
     "metadata": {},
     "output_type": "execute_result"
    }
   ],
   "source": [
    "import cv2\n",
    "import numpy as np\n",
    "\n",
    "# Создаем цветной массив и сохраняем его\n",
    "array = (np.random.rand(1000, 1000, 3) * 255).astype(np.uint8)\n",
    "cv2.imwrite('PsychedelicJPG.jpg', array)"
   ]
  },
  {
   "cell_type": "code",
   "execution_count": 3,
   "id": "4944a9a4-bdfd-41de-8fd6-8a0b661b56e9",
   "metadata": {},
   "outputs": [],
   "source": []
  },
  {
   "cell_type": "code",
   "execution_count": null,
   "id": "5cabddb6-c50d-4b55-b4ae-5c9c01de5512",
   "metadata": {},
   "outputs": [],
   "source": []
  }
 ],
 "metadata": {
  "kernelspec": {
   "display_name": "Python 3 (ipykernel)",
   "language": "python",
   "name": "python3"
  },
  "language_info": {
   "codemirror_mode": {
    "name": "ipython",
    "version": 3
   },
   "file_extension": ".py",
   "mimetype": "text/x-python",
   "name": "python",
   "nbconvert_exporter": "python",
   "pygments_lexer": "ipython3",
   "version": "3.12.4"
  }
 },
 "nbformat": 4,
 "nbformat_minor": 5
}
